{
 "cells": [
  {
   "cell_type": "code",
   "execution_count": null,
   "id": "b309151e",
   "metadata": {},
   "outputs": [],
   "source": [
    "import re\n",
    "import json\n",
    "import io\n",
    "\n",
    "import boto3"
   ]
  },
  {
   "cell_type": "code",
   "execution_count": null,
   "id": "821338ef-f409-42ac-ae76-82e7477da9ba",
   "metadata": {},
   "outputs": [],
   "source": [
    "s3_manifest = input( \"GroundTruth manifest file on S3 (e.g. s3://bucket/aaa/bbb/manifests/output/output.manifest) :\" )\n",
    "s3_yolov5_label_dst = input( \"Yolov5 label output path on S3 (e.g. s3://bucket/yolov5_labels/bbb) :\" )\n",
    "\n",
    "print( \"GroundTruth Manifest file :\", s3_manifest )\n",
    "print( \"Yolov5 label files output path :\", s3_yolov5_label_dst )\n"
   ]
  },
  {
   "cell_type": "code",
   "execution_count": null,
   "id": "414d3779",
   "metadata": {},
   "outputs": [],
   "source": [
    "def splitS3Path( s3_path ):\n",
    "    re_pattern_s3_path = \"s3://([^/]+)/(.*)\"\n",
    "    re_result = re.match( re_pattern_s3_path, s3_path )\n",
    "    bucket = re_result.group(1)\n",
    "    key = re_result.group(2)\n",
    "    return bucket, key"
   ]
  },
  {
   "cell_type": "code",
   "execution_count": null,
   "id": "c0cf8134",
   "metadata": {},
   "outputs": [],
   "source": [
    "s3_client = boto3.client(\"s3\")"
   ]
  },
  {
   "cell_type": "code",
   "execution_count": null,
   "id": "0da9819f",
   "metadata": {},
   "outputs": [],
   "source": [
    "def saveYoloV5LabelOnS3( d, s3_dst ):\n",
    "    \n",
    "    # Find elements from the naming rule of the elements\n",
    "    gt_job = None\n",
    "    gt_job_metadata = None\n",
    "    source_image = None    \n",
    "    for k in d:\n",
    "        if k == \"source-ref\":\n",
    "            source_image = d[k]\n",
    "            continue\n",
    "        elif k.endswith(\"-metadata\"):\n",
    "            assert gt_job_metadata is None, \"Found multiple metadata in the GroundTruth manifest\"\n",
    "            gt_job_metadata = d[k]\n",
    "            continue\n",
    "        else:\n",
    "            assert gt_job is None, \"Found multiple results in the GroundTruth manifest\"\n",
    "            gt_job = d[k]\n",
    "            continue\n",
    "\n",
    "    assert gt_job_metadata is not None, \"Metadata not found in the GroundTruth manifest\"\n",
    "\n",
    "    # Skip failed ones\n",
    "    if \"failure-reason\" in gt_job_metadata:\n",
    "        print( \"Skipping failed result :\", gt_job_metadata[\"failure-reason\"] )\n",
    "        return\n",
    "\n",
    "    assert gt_job is not None, \"Result data not found\"\n",
    "    assert source_image is not None, \"Image path not found\"\n",
    "\n",
    "    # Decide label path from image filename\n",
    "    _, image_filename = os.path.split( source_image )\n",
    "    s3_label = os.path.join( s3_dst, os.path.splitext(image_filename)[0] + \".txt\" ).replace(\"\\\\\",\"/\")\n",
    "\n",
    "    # Get image width / height for normalization\n",
    "    image_size_list = gt_job[\"image_size\"]\n",
    "    assert len(image_size_list)==1, \"Unexpected length of image_size list.\"\n",
    "\n",
    "    image_width, image_height = image_size_list[0][\"width\"], image_size_list[0][\"height\"]\n",
    "\n",
    "    # Skip empty results\n",
    "    if not gt_job[\"annotations\"]:\n",
    "        print( \"Skipping empty result :\", source_image )\n",
    "        return\n",
    "\n",
    "    # Write label data on memory and upload to S3\n",
    "    with io.StringIO(\"\") as buf:\n",
    "\n",
    "        for annotation in gt_job[\"annotations\"]:\n",
    "            \n",
    "            k = annotation[\"class_id\"]\n",
    "            center_x = ( annotation[\"left\"] + annotation[\"width\"] * 0.5 ) / image_width\n",
    "            center_y = ( annotation[\"top\"] + annotation[\"height\"] * 0.5 ) / image_height\n",
    "            width = annotation[\"width\"] / image_width\n",
    "            height = annotation[\"height\"] / image_height\n",
    "\n",
    "            s = \"%d %f %f %f %f\\n\" % (k, center_x, center_y, width, height )\n",
    "            buf.write(s)\n",
    "\n",
    "        print( f\"Writing {s3_label}\" )\n",
    "        s3_bucket, s3_key = splitS3Path(s3_label)\n",
    "        s3_client.put_object( Bucket=s3_bucket, Key=s3_key, Body=buf.getvalue().encode(\"utf-8\") )\n",
    "\n",
    "# read manifest file on S3\n",
    "s3_manifest_bucket, s3_manifest_key = splitS3Path(s3_manifest)\n",
    "response = s3_client.get_object( Bucket=s3_manifest_bucket, Key=s3_manifest_key )\n",
    "\n",
    "# process line by line and write Yolov5 label files on S3\n",
    "for line in response[\"Body\"].readlines():\n",
    "    \n",
    "    line = line.decode(\"utf-8\")\n",
    "    d = json.loads( line )\n",
    "    #print(d)\n",
    "    \n",
    "    saveYoloV5LabelOnS3( d, s3_yolov5_label_dst )\n",
    "\n",
    "print(\"Done.\")"
   ]
  },
  {
   "cell_type": "code",
   "execution_count": null,
   "id": "b31fd170",
   "metadata": {},
   "outputs": [],
   "source": []
  }
 ],
 "metadata": {
  "kernelspec": {
   "display_name": "Python 3.8.5 64-bit",
   "language": "python",
   "name": "python3"
  },
  "language_info": {
   "codemirror_mode": {
    "name": "ipython",
    "version": 3
   },
   "file_extension": ".py",
   "mimetype": "text/x-python",
   "name": "python",
   "nbconvert_exporter": "python",
   "pygments_lexer": "ipython3",
   "version": "3.8.5"
  },
  "vscode": {
   "interpreter": {
    "hash": "5b3ded1ccb95c1d9bd405e7b823d9e85424cde40fbb5985eb47e999ef50e15b4"
   }
  }
 },
 "nbformat": 4,
 "nbformat_minor": 5
}
