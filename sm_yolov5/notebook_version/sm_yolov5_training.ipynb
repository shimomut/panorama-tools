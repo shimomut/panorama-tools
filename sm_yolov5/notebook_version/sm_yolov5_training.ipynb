{
 "cells": [
  {
   "cell_type": "code",
   "execution_count": null,
   "id": "5f28f47c-9272-4064-bef9-aa0951781ce9",
   "metadata": {},
   "outputs": [],
   "source": [
    "import os\n",
    "\n",
    "import sagemaker\n",
    "from sagemaker.session import TrainingInput\n",
    "from sagemaker.pytorch import PyTorch"
   ]
  },
  {
   "cell_type": "code",
   "execution_count": null,
   "id": "555fdd3c",
   "metadata": {},
   "outputs": [],
   "source": [
    "sagemaker_session = sagemaker.Session()\n",
    "bucket = sagemaker_session.default_bucket()\n",
    "\n",
    "role = \"arn:aws:iam::357984623133:role/service-role/AmazonSageMaker-ExecutionRole-20210713T114662\"\n",
    "\n",
    "print(\"Role :\", role)\n",
    "print(\"Bucket :\", bucket)"
   ]
  },
  {
   "cell_type": "code",
   "execution_count": null,
   "id": "e3932bec",
   "metadata": {},
   "outputs": [],
   "source": [
    "app_name = \"MySmTest\"\n",
    "\n",
    "#yolov5_version = \"6.2\"\n",
    "yolov5_version = \"6.1\"\n",
    "#yolov5_version = \"6.0\"\n",
    "#yolov5_version = \"5.0\""
   ]
  },
  {
   "cell_type": "code",
   "execution_count": null,
   "id": "61f6fb96",
   "metadata": {},
   "outputs": [],
   "source": [
    "if yolov5_version >= \"6.1\":\n",
    "    hyp_filename = \"hyps/hyp.VOC.yaml\"\n",
    "elif yolov5_version == \"6.0\":\n",
    "    hyp_filename = \"hyps/hyp.finetune.yaml\"\n",
    "elif yolov5_version == \"5.0\":\n",
    "    hyp_filename = \"hyp.finetune.yaml\"\n",
    "else:\n",
    "    assert False, f\"Unsupported YoloV5 version {yolov5_version}\""
   ]
  },
  {
   "cell_type": "code",
   "execution_count": null,
   "id": "1a07177e",
   "metadata": {},
   "outputs": [],
   "source": [
    "# download\n",
    "!wget https://github.com/ultralytics/yolov5/archive/refs/tags/v{yolov5_version}.tar.gz -O ./yolov5-v{yolov5_version}.tar.gz\n",
    "!wget https://github.com/ultralytics/yolov5/releases/download/v{yolov5_version}/yolov5s.pt -O ./yolov5s.pt\n",
    "\n",
    "# extract source package\n",
    "!tar xvzf ./yolov5-v{yolov5_version}.tar.gz"
   ]
  },
  {
   "cell_type": "code",
   "execution_count": null,
   "id": "20c0ea47",
   "metadata": {},
   "outputs": [],
   "source": [
    "# construct input/output directory structure\n",
    "\n",
    "os.makedirs( \"config\", exist_ok=True )\n",
    "\n",
    "!cp ./yolov5s.pt ./config/\n",
    "!cp ./yolov5-{yolov5_version}/models/yolov5s.yaml ./config/\n",
    "!cp ./yolov5-{yolov5_version}/data/{hyp_filename} ./config/hyp.yaml\n",
    "!cp ./data.yaml ./config/\n"
   ]
  },
  {
   "cell_type": "code",
   "execution_count": null,
   "id": "3a8329e3-c2e2-4a78-8132-2d4f69895fb3",
   "metadata": {},
   "outputs": [],
   "source": [
    "!aws s3 sync ./config s3://{bucket}/{app_name}/config"
   ]
  },
  {
   "cell_type": "code",
   "execution_count": null,
   "id": "e88fe494",
   "metadata": {},
   "outputs": [],
   "source": [
    "!cp ./sm_entry_point.py ./yolov5-{yolov5_version}/"
   ]
  },
  {
   "cell_type": "code",
   "execution_count": null,
   "id": "4550d153",
   "metadata": {},
   "outputs": [],
   "source": [
    "s3_config = f\"s3://{bucket}/{app_name}/config\"\n",
    "s3_sources = f\"s3://{bucket}/{app_name}/sources\"\n",
    "s3_images = f\"s3://{bucket}/{app_name}/images\"\n",
    "s3_labels = f\"s3://{bucket}/{app_name}/labels\"\n",
    "s3_results = f\"s3://{bucket}/{app_name}/results\"\n",
    "\n",
    "print( \"s3_config :\", s3_config )\n",
    "print( \"s3_sources :\", s3_sources )\n",
    "print( \"s3_images :\", s3_images )\n",
    "print( \"s3_labels :\", s3_labels )\n",
    "print( \"s3_results :\", s3_results )\n"
   ]
  },
  {
   "cell_type": "code",
   "execution_count": null,
   "id": "e780377b-e8e6-466e-8580-f0efcc989f0f",
   "metadata": {},
   "outputs": [],
   "source": [
    "estimator = PyTorch(\n",
    "    entry_point = \"sm_entry_point.py\",\n",
    "    source_dir = f\"./yolov5-{yolov5_version}\",\n",
    "    py_version=\"py38\",\n",
    "    framework_version=\"1.11.0\",\n",
    "    role=role,\n",
    "    instance_count=1,\n",
    "    instance_type='ml.p3.2xlarge',\n",
    "    input_mode='File',\n",
    "    code_location=s3_sources,\n",
    "    output_path=s3_results,\n",
    "    base_job_name=f'{app_name}-yolov5'\n",
    ")\n"
   ]
  },
  {
   "cell_type": "code",
   "execution_count": null,
   "id": "8e7ddf5d-d685-4d0c-80d6-6cb67e05c10c",
   "metadata": {
    "scrolled": true,
    "tags": []
   },
   "outputs": [],
   "source": [
    "inputs = {\n",
    "    \"config\": TrainingInput(s3_config),\n",
    "    \"images\": TrainingInput(s3_images),\n",
    "    \"labels\": TrainingInput(s3_labels),\n",
    "}\n",
    "\n",
    "estimator.fit(inputs)"
   ]
  },
  {
   "cell_type": "code",
   "execution_count": null,
   "id": "88d86850",
   "metadata": {},
   "outputs": [],
   "source": [
    "s3_output = f\"s3://{bucket}/{app_name}/results/{estimator._current_job_name}/output/\"\n",
    "print(s3_output)\n",
    "\n",
    "!aws s3 ls {s3_output}"
   ]
  },
  {
   "cell_type": "code",
   "execution_count": null,
   "id": "bbb1ef25",
   "metadata": {},
   "outputs": [],
   "source": []
  }
 ],
 "metadata": {
  "kernelspec": {
   "display_name": "Python 3.8.5 64-bit",
   "language": "python",
   "name": "python3"
  },
  "language_info": {
   "codemirror_mode": {
    "name": "ipython",
    "version": 3
   },
   "file_extension": ".py",
   "mimetype": "text/x-python",
   "name": "python",
   "nbconvert_exporter": "python",
   "pygments_lexer": "ipython3",
   "version": "3.8.5"
  },
  "vscode": {
   "interpreter": {
    "hash": "5b3ded1ccb95c1d9bd405e7b823d9e85424cde40fbb5985eb47e999ef50e15b4"
   }
  }
 },
 "nbformat": 4,
 "nbformat_minor": 5
}
