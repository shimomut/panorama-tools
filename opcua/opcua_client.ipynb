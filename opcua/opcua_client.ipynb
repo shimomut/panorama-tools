{
 "cells": [
  {
   "cell_type": "code",
   "execution_count": 8,
   "id": "74c2aa0f-e245-4fc5-8091-bde015965f5d",
   "metadata": {},
   "outputs": [
    {
     "name": "stderr",
     "output_type": "stream",
     "text": [
      "INFO:asyncua.client.client:connect\n",
      "INFO:asyncua.client.ua_client.UaClient:opening connection\n",
      "INFO:asyncua.client.ua_client.UASocketProtocol:open_secure_channel\n",
      "INFO:asyncua.client.ua_client.UaClient:create_session\n",
      "INFO:asyncua.client.client:find_endpoint [EndpointDescription(EndpointUrl='opc.tcp://10.0.0.154:4840/freeopcua/server/', Server=ApplicationDescription(ApplicationUri='urn:freeopcua:python:server', ProductUri='urn:freeopcua.github.io:python:server', ApplicationName=LocalizedText(Locale=None, Text='FreeOpcUa Python Server'), ApplicationType_=<ApplicationType.ClientAndServer: 2>, GatewayServerUri=None, DiscoveryProfileUri=None, DiscoveryUrls=['opc.tcp://0.0.0.0:4840/freeopcua/server/']), ServerCertificate=None, SecurityMode=<MessageSecurityMode.None_: 1>, SecurityPolicyUri='http://opcfoundation.org/UA/SecurityPolicy#None', UserIdentityTokens=[UserTokenPolicy(PolicyId='anonymous', TokenType=<UserTokenType.Anonymous: 0>, IssuedTokenType=None, IssuerEndpointUrl=None, SecurityPolicyUri=None), UserTokenPolicy(PolicyId='certificate_basic256sha256', TokenType=<UserTokenType.Certificate: 2>, IssuedTokenType=None, IssuerEndpointUrl=None, SecurityPolicyUri=None), UserTokenPolicy(PolicyId='username', TokenType=<UserTokenType.UserName: 1>, IssuedTokenType=None, IssuerEndpointUrl=None, SecurityPolicyUri=None)], TransportProfileUri='http://opcfoundation.org/UA-Profile/Transport/uatcp-uasc-uabinary', SecurityLevel=0)] <MessageSecurityMode.None_: 1> 'http://opcfoundation.org/UA/SecurityPolicy#None'\n",
      "INFO:asyncua.client.ua_client.UaClient:activate_session\n",
      "INFO:asyncua.client.ua_client.UaClient:browse\n",
      "INFO:asyncua:Children of root are: [Node(NodeId(Identifier=85, NamespaceIndex=0, NodeIdType=<NodeIdType.Numeric: 2>)), Node(NodeId(Identifier=86, NamespaceIndex=0, NodeIdType=<NodeIdType.Numeric: 2>)), Node(NodeId(Identifier=87, NamespaceIndex=0, NodeIdType=<NodeIdType.Numeric: 2>))]\n",
      "INFO:asyncua.client.client:get_namespace_index <class 'list'> ['http://opcfoundation.org/UA/', 'urn:freeopcua:python:server', 'http://examples.freeopcua.github.io']\n",
      "INFO:asyncua.client.client:disconnect\n",
      "INFO:asyncua.client.ua_client.UaClient:close_session\n",
      "INFO:asyncua.client.ua_client.UASocketProtocol:close_secure_channel\n",
      "INFO:asyncua.client.ua_client.UASocketProtocol:Request to close socket received\n",
      "INFO:asyncua.client.ua_client.UASocketProtocol:Socket has closed connection\n"
     ]
    },
    {
     "name": "stdout",
     "output_type": "stream",
     "text": [
      "My variable ns=2;i=2 24.200000000000074\n"
     ]
    }
   ],
   "source": [
    "import asyncio\n",
    "import sys\n",
    "import logging\n",
    "\n",
    "from asyncua import Client, Node, ua\n",
    "\n",
    "logging.basicConfig(level=logging.INFO)\n",
    "_logger = logging.getLogger('asyncua')\n",
    "\n",
    "async def main():\n",
    "    url = 'opc.tcp://10.0.0.154:4840/freeopcua/server/'\n",
    "    # url = 'opc.tcp://commsvr.com:51234/UA/CAS_UA_Server'\n",
    "    \n",
    "    async with Client(url=url) as client:\n",
    "\n",
    "        # Client has a few methods to get proxy to UA nodes that should always be in address space such as Root or Objects\n",
    "        # Node objects have methods to read and write node attributes as well as browse or populate address space\n",
    "        _logger.info('Children of root are: %r', await client.nodes.root.get_children())\n",
    "\n",
    "        uri = 'http://examples.freeopcua.github.io'\n",
    "        idx = await client.get_namespace_index(uri)\n",
    "        # get a specific node knowing its node id\n",
    "        # var = client.get_node(ua.NodeId(1002, 2))\n",
    "        # var = client.get_node(\"ns=3;i=2002\")\n",
    "\n",
    "        var = await client.nodes.root.get_child([\"0:Objects\", f\"{idx}:MyObject\", f\"{idx}:MyVariable\"])\n",
    "        print(\"My variable\", var, await var.read_value())\n",
    "        # print(var)\n",
    "        # await var.read_data_value() # get value of node as a DataValue object\n",
    "        # await var.read_value() # get value of node as a python builtin\n",
    "        # await var.write_value(ua.Variant([23], ua.VariantType.Int64)) #set node value using explicit data type\n",
    "\n",
    "        await var.write_value(0.0) # set node value using implicit data type\n",
    "\n",
    "await main()\n"
   ]
  },
  {
   "cell_type": "code",
   "execution_count": null,
   "id": "9ba2c380-ae07-411d-ae43-02555fe7147c",
   "metadata": {},
   "outputs": [],
   "source": []
  }
 ],
 "metadata": {
  "kernelspec": {
   "display_name": "Python 3 (ipykernel)",
   "language": "python",
   "name": "python3"
  },
  "language_info": {
   "codemirror_mode": {
    "name": "ipython",
    "version": 3
   },
   "file_extension": ".py",
   "mimetype": "text/x-python",
   "name": "python",
   "nbconvert_exporter": "python",
   "pygments_lexer": "ipython3",
   "version": "3.7.5"
  }
 },
 "nbformat": 4,
 "nbformat_minor": 5
}
