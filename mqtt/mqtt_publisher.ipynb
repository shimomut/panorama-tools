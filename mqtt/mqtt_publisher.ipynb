{
 "cells": [
  {
   "cell_type": "code",
   "execution_count": 1,
   "id": "4170cfb8-2871-42e0-a351-178f94d54293",
   "metadata": {},
   "outputs": [
    {
     "data": {
      "text/plain": [
       "<paho.mqtt.client.MQTTMessageInfo at 0x7f747dae90>"
      ]
     },
     "execution_count": 1,
     "metadata": {},
     "output_type": "execute_result"
    }
   ],
   "source": [
    "import paho.mqtt.client as mqtt\n",
    "\n",
    "mqtt_client = mqtt.Client( \"my_mqtt_client1\" )\n",
    "\n",
    "broker = \"broker.emqx.io\"\n",
    "port = 1883\n",
    "\n",
    "mqtt_client.connect( broker, port )\n",
    "\n",
    "mqtt_client.publish(\"panorama/test1\",\"ON\")\n"
   ]
  },
  {
   "cell_type": "code",
   "execution_count": null,
   "id": "7adcf60d-4d01-4ac8-831e-7a26e36a4057",
   "metadata": {},
   "outputs": [],
   "source": []
  }
 ],
 "metadata": {
  "kernelspec": {
   "display_name": "Python 3 (ipykernel)",
   "language": "python",
   "name": "python3"
  },
  "language_info": {
   "codemirror_mode": {
    "name": "ipython",
    "version": 3
   },
   "file_extension": ".py",
   "mimetype": "text/x-python",
   "name": "python",
   "nbconvert_exporter": "python",
   "pygments_lexer": "ipython3",
   "version": "3.7.5"
  }
 },
 "nbformat": 4,
 "nbformat_minor": 5
}
